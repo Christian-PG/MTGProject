{
 "cells": [
  {
   "cell_type": "code",
   "execution_count": null,
   "id": "fe793d10",
   "metadata": {},
   "outputs": [],
   "source": [
    "import requests\n",
    "import time\n",
    "import boto3\n",
    "import pandas as pd\n",
    "import io\n",
    "import json\n",
    "from typing import List, Dict, Any\n",
    "from sklearn.model_selection import train_test_split\n",
    "from sklearn.feature_extraction.text import TfidfVectorizer\n",
    "from category_encoders import TargetEncoder\n",
    "import re\n",
    "\n",
    "\n"
   ]
  },
  {
   "cell_type": "code",
   "execution_count": null,
   "id": "d0abc94f",
   "metadata": {},
   "outputs": [],
   "source": [
    "all_Cards = []"
   ]
  },
  {
   "cell_type": "code",
   "execution_count": null,
   "id": "7976cd2b",
   "metadata": {},
   "outputs": [],
   "source": [
    "last = False\n",
    "\n",
    "while last == False:\n",
    "    try:\n",
    "        response = requests.get(url)\n",
    "\n",
    "        list_rels = response.headers.get('Link').split(\",\")\n",
    "        list_rels_comp = [item.split(\";\") for item in list_rels]\n",
    "\n",
    "        dict_rels = {rel[1].replace(\"rel=\", \"\").replace('\"', '').replace(\" \",\"\") : rel[0].replace(\"<\",\"\").replace(\">\",\"\").replace(\" \",\"\") for rel in list_rels_comp}\n",
    "        \n",
    "        all_Cards.extend(response.json()[\"cards\"])\n",
    "        \n",
    "        if \"next\" in dict_rels:\n",
    "            url = dict_rels[\"next\"]\n",
    "            time.sleep(1)\n",
    "        else:\n",
    "            last = True\n",
    "    except requests.exceptions.HTTPError as e:\n",
    "        print(f\"Error HTTP ({e.response.status_code}). Reintentando en 5s...\")\n",
    "        time.sleep(5)\n",
    "    except requests.exceptions.RequestException as e:\n",
    "        print(f\"Error de conexión: {e}. Reintentando en 5s...\")\n",
    "        time.sleep(5)\n",
    "    except Exception as error:\n",
    "        print(f\"Ha ocurrido otro error: {error}\")"
   ]
  },
  {
   "cell_type": "markdown",
   "id": "3b30f141",
   "metadata": {},
   "source": [
    "### DESCARGA DESDE BULK"
   ]
  },
  {
   "cell_type": "code",
   "execution_count": null,
   "id": "0780fb25",
   "metadata": {},
   "outputs": [],
   "source": [
    "all_Cards = requests.get(\"https://data.scryfall.io/default-cards/default-cards-20251023090836.json\").json()"
   ]
  },
  {
   "cell_type": "code",
   "execution_count": null,
   "id": "9de9192b",
   "metadata": {},
   "outputs": [],
   "source": [
    "def get_spanish_value(card_data, key_to_extract):\n",
    "    foreign_names = card_data.get(\"foreignNames\")\n",
    "    if foreign_names:\n",
    "        for item in foreign_names:\n",
    "            if item.get(\"language\") == \"Spanish\":\n",
    "                return item.get(key_to_extract, \"\")\n",
    "    return \"\"\n",
    "\n",
    "def get_formats(legalities: Dict[str, str]) -> List[str]:\n",
    "    if isinstance(legalities, dict):\n",
    "        return [\n",
    "            formato\n",
    "            for formato, estatus in legalities.items()\n",
    "            if estatus == \"legal\"\n",
    "        ]\n",
    "    return []\n",
    "\n",
    "def map_color_identity(color_list):\n",
    "    \n",
    "    # Asegurarse de que el input es una lista de strings y que no es None\n",
    "    if not isinstance(color_list, list) or len(color_list) == 0:\n",
    "        return 'Colorless'\n",
    "    \n",
    "    sorted_colors = tuple(sorted(color_list))\n",
    "    \n",
    "    # W = White, U = Blue, B = Black, R = Red, G = Green\n",
    "    color_map = {\n",
    "        # --- Monocolor ---\n",
    "        (\"W\",): \"Monowhite\",\n",
    "        (\"U\",): \"Monoblue\",\n",
    "        (\"B\",): \"Monoblack\",\n",
    "        (\"R\",): \"Monored\",\n",
    "        (\"G\",): \"Monogreen\",\n",
    "        \n",
    "        # --- Bicolor (Guilds) ---\n",
    "        (\"W\", \"U\"): \"Azorius\",\n",
    "        (\"W\", \"B\"): \"Orzhov\",\n",
    "        (\"B\", \"R\"): \"Rakdos\",\n",
    "        (\"B\", \"G\"): \"Golgari\",\n",
    "        (\"G\", \"W\"): \"Selesnya\",\n",
    "        (\"U\", \"B\"): \"Dimir\",\n",
    "        (\"U\", \"R\"): \"Izzet\",\n",
    "        (\"R\", \"G\"): \"Gruul\",\n",
    "        (\"R\", \"W\"): \"Boros\",\n",
    "        (\"G\", \"U\"): \"Simic\",\n",
    "        \n",
    "        # --- Tricolor (Shards/Wedges) ---\n",
    "        # Shards of Alara\n",
    "        (\"W\", \"U\", \"B\"): \"Esper\",\n",
    "        (\"U\", \"B\", \"R\"): \"Grixis\",\n",
    "        (\"B\", \"R\", \"G\"): \"Jund\",\n",
    "        (\"R\", \"G\", \"W\"): \"Naya\",\n",
    "        (\"G\", \"W\", \"U\"): \"Bant\",\n",
    "        # Wedges of Tarkir\n",
    "        (\"W\", \"B\", \"G\"): \"Abzan\",\n",
    "        (\"U\", \"R\", \"W\"): \"Jeskai\",\n",
    "        (\"B\", \"G\", \"U\"): \"Sultai\",\n",
    "        (\"R\", \"W\", \"B\"): \"Mardu\",\n",
    "        (\"G\", \"U\", \"R\"): \"Temur\",\n",
    "        \n",
    "        # --- Cuatricolor ---\n",
    "        (\"W\", \"U\", \"B\", \"R\"): \"Glint\", # Sin Verde\n",
    "        (\"U\", \"B\", \"R\", \"G\"): \"Dune\",  # Sin Blanco\n",
    "        (\"B\", \"R\", \"G\", \"W\"): \"Ink\",   # Sin Azul\n",
    "        (\"R\", \"G\", \"W\", \"U\"): \"Yore\",  # Sin Negro\n",
    "        (\"G\", \"W\", \"U\", \"B\"): \"Witch\", # Sin Rojo\n",
    "        \n",
    "        # --- Cinco Colores ---\n",
    "        (\"W\", \"U\", \"B\", \"R\", \"G\"): \"FiveColor\" # WUBRG\n",
    "    }\n",
    "    \n",
    "    # Buscar la combinación en el mapa\n",
    "    if sorted_colors in color_map:\n",
    "        return color_map[sorted_colors]\n",
    "\n",
    "def extract_generic_cost(cost_string):\n",
    "    generic_matches = re.findall(r'\\{(\\d+)\\}', cost_string)\n",
    "    return sum(int(n) for n in generic_matches)"
   ]
  },
  {
   "cell_type": "code",
   "execution_count": null,
   "id": "432d5d75",
   "metadata": {},
   "outputs": [],
   "source": [
    "all_cards_cleaned = [{\n",
    "        \"Nombre\": card.get(\"name\"),\n",
    "        \"Texto\": card.get(\"oracle_text\"),\n",
    "        \"Coste\": card.get(\"mana_cost\", \"\"),\n",
    "        \"Identidad_Color\": card.get(\"color_identity\"),\n",
    "        \"Tipo\": card.get(\"type_line\"),\n",
    "        \"Set\": card.get(\"set_name\"),\n",
    "        \"Rareza\": card.get(\"rarity\"),\n",
    "\n",
    "        \"Fuerza\": card.get(\"power\", None), \n",
    "        \"Resistencia\": card.get(\"toughness\", None),\n",
    "        \n",
    "        \"Cmc\": card.get(\"cmc\", None),\n",
    "        \"Formatos_legales\": get_formats((card.get(\"legalities\", {}))),\n",
    "        \"Reserved_list\": card.get(\"reserved\"),\n",
    "        \"Game_changer\": card.get(\"game_changer\"),\n",
    "        \"Promo\": card.get(\"promo\"),\n",
    "        \"Precio ($)\": card[\"prices\"][\"usd\"]\n",
    "    } for card in all_Cards]\n",
    "\n",
    "df_cards = pd.DataFrame(all_cards_cleaned)\n",
    "df_cards.dropna(subset=[\"Precio ($)\"], inplace=True)\n",
    "df_cards[\"Identidad_Color\"] = df_cards[\"Identidad_Color\"].apply(map_color_identity)"
   ]
  },
  {
   "cell_type": "code",
   "execution_count": null,
   "id": "9ddf96a0",
   "metadata": {},
   "outputs": [],
   "source": [
    "df_cards"
   ]
  },
  {
   "cell_type": "code",
   "execution_count": null,
   "id": "f234516f",
   "metadata": {},
   "outputs": [],
   "source": [
    "#Este es un buen momento para alimentar la DDBB después, adicionalmente continuamos trabajando los datos para el modelo\n",
    "\n",
    "###\n",
    "\n",
    "df_to_train = df_cards"
   ]
  },
  {
   "cell_type": "code",
   "execution_count": null,
   "id": "7ae353cb",
   "metadata": {},
   "outputs": [],
   "source": [
    "# Voy a guardar que cartas tenían coste 0 auténtico ya que es algo muy importante, y voy a rellenar los Nan manteniendo ese dato.\n",
    "df_to_train[\"cmc_Nulo\"] = df_to_train['Cmc'].isna().astype(int)\n",
    "df_to_train[\"Cmc\"].fillna(0, inplace=True)\n",
    "\n",
    "# Haré lo mismo para Fuerza y Resistencia de Criaturas y cartas de otros tipos que no tienen esto valores.\n",
    "df_to_train[\"es_criatura\"] = df_to_train[\"Tipo\"].str.contains(\"Creature\", case=False, na=False).astype(int)\n",
    "df_to_train[\"Fuerza\"].fillna(0, inplace=True)\n",
    "df_to_train[\"Resistencia\"].fillna(0, inplace=True)\n",
    "\n",
    "# Voy a rellenar el campo de texto de las cartas que no tengan (como por ejemplo algunas tierras básicas) con un string vacío.\n",
    "df_to_train[\"Texto\"].fillna(\"\", inplace=True)\n",
    "\n"
   ]
  },
  {
   "cell_type": "code",
   "execution_count": null,
   "id": "e87a5b3b",
   "metadata": {},
   "outputs": [],
   "source": [
    "df_to_train[\"Promo\"] = df_to_train[\"Promo\"].astype(int)\n",
    "df_to_train[\"Game_changer\"] = df_to_train[\"Game_changer\"].astype(int)\n",
    "df_to_train[\"Reserved_list\"] = df_to_train[\"Reserved_list\"].astype(int)\n",
    "\n",
    "df_to_train[\"Identidad_Color\"] = df_to_train[\"Identidad_Color\"].astype(\"category\")\n",
    "df_to_train[\"Tipo\"] = df_to_train[\"Tipo\"].astype(\"category\")\n",
    "df_to_train[\"Rareza\"] = df_to_train[\"Rareza\"].astype(\"category\")"
   ]
  },
  {
   "cell_type": "code",
   "execution_count": null,
   "id": "1d84bfc4",
   "metadata": {},
   "outputs": [],
   "source": [
    "mana_symbols = [\"W\", \"U\", \"B\", \"R\", \"G\", \"C\", \"X\"] \n",
    "\n",
    "df_to_train[\"Coste_Incoloro\"] = 0\n",
    "df_to_train[\"Coste_Incoloro\"] = df_to_train[\"Coste\"].apply(extract_generic_cost)\n",
    "\n",
    "for symbol in mana_symbols:\n",
    "    df_to_train[f\"Coste_{symbol}\"] = df_to_train[\"Coste\"].str.count(f\"\\{{{symbol}\\}}\")\n",
    "\n",
    "df_to_train[\"Tiene_X_Coste\"] = df_to_train[\"Coste\"].str.contains(r\"\\{X\\}\").astype(int)\n",
    "df_to_train.drop(columns=[\"Coste_X\"], inplace=True) # Eliminamos la columna de conteo Coste_X"
   ]
  },
  {
   "cell_type": "markdown",
   "id": "d54d1786",
   "metadata": {},
   "source": [
    "### SEPARACIÓN DE DATOS EN X E Y PARA CONTINUAR EL TRATADO Y POSTERIOR ENTRENAMIENTO DEL MODELO"
   ]
  },
  {
   "cell_type": "code",
   "execution_count": null,
   "id": "d64d6c4a",
   "metadata": {},
   "outputs": [],
   "source": [
    "X = df_to_train.drop(columns=['Precio ($)', 'Nombre', 'Texto'])\n",
    "y = df_to_train['Precio ($)']\n",
    "\n",
    "X_train, X_test, y_train, y_test = train_test_split(X, y, test_size=.2, random_state=42)"
   ]
  },
  {
   "cell_type": "code",
   "execution_count": null,
   "id": "f72d1301",
   "metadata": {},
   "outputs": [],
   "source": []
  }
 ],
 "metadata": {
  "kernelspec": {
   "display_name": "mtg-env",
   "language": "python",
   "name": "python3"
  },
  "language_info": {
   "codemirror_mode": {
    "name": "ipython",
    "version": 3
   },
   "file_extension": ".py",
   "mimetype": "text/x-python",
   "name": "python",
   "nbconvert_exporter": "python",
   "pygments_lexer": "ipython3",
   "version": "3.12.12"
  }
 },
 "nbformat": 4,
 "nbformat_minor": 5
}
